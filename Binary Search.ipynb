{
 "cells": [
  {
   "cell_type": "markdown",
   "id": "d2112d72",
   "metadata": {},
   "source": [
    "## Binary search O(log(n))"
   ]
  },
  {
   "cell_type": "code",
   "execution_count": 34,
   "id": "73055408",
   "metadata": {},
   "outputs": [
    {
     "name": "stdout",
     "output_type": "stream",
     "text": [
      "1\n",
      "1\n"
     ]
    }
   ],
   "source": [
    "\n",
    "def binary_search(number_list,number_to_find):\n",
    "    left_index=0\n",
    "    right_index= len(number_list)-1\n",
    "    while left_index <= right_index:\n",
    "        mid_index= (left_index+right_index)//2\n",
    "        mid_number=number_list[mid_index]\n",
    "        #print(mid_index, \":\", number_list[mid_index])\n",
    "        if mid_number == number_to_find:\n",
    "            return mid_index\n",
    "        if mid_number < number_to_find:\n",
    "            left_index=(mid_index+1)\n",
    "        else:\n",
    "            right_index=(mid_index-1)\n",
    "def linear_search(number_list,number_to_find):\n",
    "    \n",
    "    for index,element in enumerate(number_list):\n",
    "        if element==number_to_find:\n",
    "            return index\n",
    "    else:\n",
    "        return -1\n",
    "\n",
    "if __name__ == '__main__':\n",
    "    \n",
    "    number_list=[12,15,17,19,21,24,45,67]\n",
    "    number_to_find=15\n",
    "    \n",
    "    print(linear_search(number_list,number_to_find))\n",
    "    print(binary_search(number_list,number_to_find))"
   ]
  },
  {
   "cell_type": "markdown",
   "id": "f4d93df4",
   "metadata": {},
   "source": [
    "## Using Recursion"
   ]
  },
  {
   "cell_type": "code",
   "execution_count": 7,
   "id": "f927e747",
   "metadata": {},
   "outputs": [
    {
     "name": "stdout",
     "output_type": "stream",
     "text": [
      "15\n"
     ]
    }
   ],
   "source": [
    "\n",
    "def binary_search(number_list,number_to_find,left_index,right_index):\n",
    "    if right_index<left_index:\n",
    "        return -1\n",
    "    mid_index=(left_index+right_index)//2\n",
    "    mid_number=number_list[mid_index]\n",
    "    if mid_number==number_to_find:\n",
    "        return number_list[mid_index]\n",
    "        print(mid_index, number_list[mid_index])\n",
    "        \n",
    "    if mid_number<number_to_find:\n",
    "        left_index=mid_index+1\n",
    "    else:\n",
    "        right_index=mid_index-1\n",
    "    return binary_search(number_list,number_to_find,left_index,right_index)\n",
    "        \n",
    "if __name__ == '__main__':\n",
    "    \n",
    "    number_list=[12,15,17,19,21,24,45,67]\n",
    "    number_to_find=15\n",
    "    print(binary_search(number_list,number_to_find,0,len(number_list)-1))"
   ]
  },
  {
   "cell_type": "markdown",
   "id": "9609f0e5",
   "metadata": {},
   "source": [
    "## practice"
   ]
  },
  {
   "cell_type": "code",
   "execution_count": 10,
   "id": "8fb10ccb",
   "metadata": {},
   "outputs": [],
   "source": [
    "\n",
    "def binary_search(number_list,number_to_find):\n",
    "    left_index=0\n",
    "    right_index= len(number_list)-1\n",
    "    while left_index <= right_index:\n",
    "        mid_index= (left_index+right_index)//2\n",
    "        mid_number=number_list[mid_index]\n",
    "\n",
    "        if mid_number == number_to_find:\n",
    "            return mid_index\n",
    "        if mid_number < number_to_find:\n",
    "            left_index=(mid_index+1)\n",
    "        else:\n",
    "            right_index=(mid_index-1)"
   ]
  },
  {
   "cell_type": "code",
   "execution_count": 20,
   "id": "3fd1aa59",
   "metadata": {},
   "outputs": [
    {
     "name": "stdout",
     "output_type": "stream",
     "text": [
      "[0, 1, 2, 3, 4, 5, 6, 7, 8, 9, 10, 11, 12, 13]\n"
     ]
    }
   ],
   "source": [
    "def find_alloccurance(numbers,number_to_find):\n",
    "    index=binary_search(numbers,number_to_find)\n",
    "    indices=[index]\n",
    "    i=index-1\n",
    "    while i>=0:\n",
    "        indices.append(i)\n",
    "        i-=1\n",
    "    i=index+1\n",
    "    while i<=len(numbers):\n",
    "        indices.append(i)\n",
    "        i+=1\n",
    "        \n",
    "    indices.sort()\n",
    "    print(indices)\n",
    "    \n",
    "    \n",
    "\n",
    "if __name__ == '__main__':\n",
    "    numbers = [1,4,6,9,11,15,15,15,17,21,34,34,56]\n",
    "    number_to_find = 15\n",
    "    find_alloccurance(numbers,number_to_find)"
   ]
  },
  {
   "cell_type": "code",
   "execution_count": null,
   "id": "cef146c3",
   "metadata": {},
   "outputs": [],
   "source": []
  },
  {
   "cell_type": "code",
   "execution_count": null,
   "id": "e36383a9",
   "metadata": {},
   "outputs": [],
   "source": []
  },
  {
   "cell_type": "code",
   "execution_count": null,
   "id": "a0e6007f",
   "metadata": {},
   "outputs": [],
   "source": []
  },
  {
   "cell_type": "code",
   "execution_count": null,
   "id": "5c5484ca",
   "metadata": {},
   "outputs": [],
   "source": []
  },
  {
   "cell_type": "code",
   "execution_count": null,
   "id": "3582ece0",
   "metadata": {},
   "outputs": [],
   "source": []
  }
 ],
 "metadata": {
  "kernelspec": {
   "display_name": "Python 3 (ipykernel)",
   "language": "python",
   "name": "python3"
  },
  "language_info": {
   "codemirror_mode": {
    "name": "ipython",
    "version": 3
   },
   "file_extension": ".py",
   "mimetype": "text/x-python",
   "name": "python",
   "nbconvert_exporter": "python",
   "pygments_lexer": "ipython3",
   "version": "3.9.7"
  }
 },
 "nbformat": 4,
 "nbformat_minor": 5
}
